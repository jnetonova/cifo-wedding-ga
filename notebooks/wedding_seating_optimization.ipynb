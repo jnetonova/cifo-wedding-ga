{
 "cells": [
  {
   "cell_type": "markdown",
   "id": "a1ad5b55",
   "metadata": {},
   "source": [
    "**Note:** This notebook was developed as part of the CIFO project. I've built each step iteratively to make sure I understood how genetic algorithms can be applied to real-world group optimization problems."
   ]
  },
  {
   "cell_type": "markdown",
   "id": "61b1f44d",
   "metadata": {},
   "source": [
    "In this notebook, I will develop a Genetic Algorithm to optimize the seating\n",
    "arrangement for a wedding with 64 guests divided across 8 tables.\n",
    "\n",
    "The objective is to maximize overall guest happiness, based on their pairwise\n",
    "relationship scores, while ensuring that each guest is assigned to exactly one table."
   ]
  },
  {
   "cell_type": "markdown",
   "id": "48f1e23b",
   "metadata": {},
   "source": [
    "# Wedding Seating Optimization\n",
    "# CIFO 2024/2025 – Final Project"
   ]
  },
  {
   "cell_type": "code",
   "execution_count": 346,
   "id": "c5d78a15",
   "metadata": {},
   "outputs": [],
   "source": [
    "import pandas as pd\n",
    "import numpy as np"
   ]
  },
  {
   "cell_type": "markdown",
   "id": "aa331ad5",
   "metadata": {},
   "source": [
    "## Load the pairwise relationship matrix"
   ]
  },
  {
   "cell_type": "code",
   "execution_count": 347,
   "id": "4c3b9cb6",
   "metadata": {},
   "outputs": [],
   "source": [
    "df = pd.read_csv(\"../data/seating_data.csv\", index_col=0)"
   ]
  },
  {
   "cell_type": "markdown",
   "id": "13d195af",
   "metadata": {},
   "source": [
    "## Check basic properties"
   ]
  },
  {
   "cell_type": "code",
   "execution_count": 348,
   "id": "6b0b5618",
   "metadata": {},
   "outputs": [
    {
     "name": "stdout",
     "output_type": "stream",
     "text": [
      "Matrix shape: (64, 64)\n",
      "Unique relationship values: [-1000     0   100   300   400   500   700   900  1000  2000  5000]\n"
     ]
    },
    {
     "data": {
      "text/html": [
       "<div>\n",
       "<style scoped>\n",
       "    .dataframe tbody tr th:only-of-type {\n",
       "        vertical-align: middle;\n",
       "    }\n",
       "\n",
       "    .dataframe tbody tr th {\n",
       "        vertical-align: top;\n",
       "    }\n",
       "\n",
       "    .dataframe thead th {\n",
       "        text-align: right;\n",
       "    }\n",
       "</style>\n",
       "<table border=\"1\" class=\"dataframe\">\n",
       "  <thead>\n",
       "    <tr style=\"text-align: right;\">\n",
       "      <th></th>\n",
       "      <th>1</th>\n",
       "      <th>2</th>\n",
       "      <th>3</th>\n",
       "      <th>4</th>\n",
       "      <th>5</th>\n",
       "      <th>6</th>\n",
       "      <th>7</th>\n",
       "      <th>8</th>\n",
       "      <th>9</th>\n",
       "      <th>10</th>\n",
       "      <th>...</th>\n",
       "      <th>55</th>\n",
       "      <th>56</th>\n",
       "      <th>57</th>\n",
       "      <th>58</th>\n",
       "      <th>59</th>\n",
       "      <th>60</th>\n",
       "      <th>61</th>\n",
       "      <th>62</th>\n",
       "      <th>63</th>\n",
       "      <th>64</th>\n",
       "    </tr>\n",
       "    <tr>\n",
       "      <th>idx</th>\n",
       "      <th></th>\n",
       "      <th></th>\n",
       "      <th></th>\n",
       "      <th></th>\n",
       "      <th></th>\n",
       "      <th></th>\n",
       "      <th></th>\n",
       "      <th></th>\n",
       "      <th></th>\n",
       "      <th></th>\n",
       "      <th></th>\n",
       "      <th></th>\n",
       "      <th></th>\n",
       "      <th></th>\n",
       "      <th></th>\n",
       "      <th></th>\n",
       "      <th></th>\n",
       "      <th></th>\n",
       "      <th></th>\n",
       "      <th></th>\n",
       "      <th></th>\n",
       "    </tr>\n",
       "  </thead>\n",
       "  <tbody>\n",
       "    <tr>\n",
       "      <th>1</th>\n",
       "      <td>0</td>\n",
       "      <td>5000</td>\n",
       "      <td>0</td>\n",
       "      <td>0</td>\n",
       "      <td>700</td>\n",
       "      <td>700</td>\n",
       "      <td>0</td>\n",
       "      <td>0</td>\n",
       "      <td>0</td>\n",
       "      <td>0</td>\n",
       "      <td>...</td>\n",
       "      <td>100</td>\n",
       "      <td>100</td>\n",
       "      <td>0</td>\n",
       "      <td>0</td>\n",
       "      <td>100</td>\n",
       "      <td>100</td>\n",
       "      <td>100</td>\n",
       "      <td>0</td>\n",
       "      <td>0</td>\n",
       "      <td>0</td>\n",
       "    </tr>\n",
       "    <tr>\n",
       "      <th>2</th>\n",
       "      <td>5000</td>\n",
       "      <td>0</td>\n",
       "      <td>700</td>\n",
       "      <td>700</td>\n",
       "      <td>0</td>\n",
       "      <td>0</td>\n",
       "      <td>300</td>\n",
       "      <td>300</td>\n",
       "      <td>500</td>\n",
       "      <td>500</td>\n",
       "      <td>...</td>\n",
       "      <td>100</td>\n",
       "      <td>100</td>\n",
       "      <td>0</td>\n",
       "      <td>100</td>\n",
       "      <td>0</td>\n",
       "      <td>0</td>\n",
       "      <td>0</td>\n",
       "      <td>0</td>\n",
       "      <td>0</td>\n",
       "      <td>0</td>\n",
       "    </tr>\n",
       "    <tr>\n",
       "      <th>3</th>\n",
       "      <td>0</td>\n",
       "      <td>700</td>\n",
       "      <td>0</td>\n",
       "      <td>2000</td>\n",
       "      <td>0</td>\n",
       "      <td>0</td>\n",
       "      <td>0</td>\n",
       "      <td>0</td>\n",
       "      <td>300</td>\n",
       "      <td>300</td>\n",
       "      <td>...</td>\n",
       "      <td>0</td>\n",
       "      <td>0</td>\n",
       "      <td>0</td>\n",
       "      <td>0</td>\n",
       "      <td>0</td>\n",
       "      <td>0</td>\n",
       "      <td>0</td>\n",
       "      <td>0</td>\n",
       "      <td>0</td>\n",
       "      <td>0</td>\n",
       "    </tr>\n",
       "    <tr>\n",
       "      <th>4</th>\n",
       "      <td>0</td>\n",
       "      <td>700</td>\n",
       "      <td>2000</td>\n",
       "      <td>0</td>\n",
       "      <td>0</td>\n",
       "      <td>0</td>\n",
       "      <td>900</td>\n",
       "      <td>400</td>\n",
       "      <td>300</td>\n",
       "      <td>300</td>\n",
       "      <td>...</td>\n",
       "      <td>0</td>\n",
       "      <td>0</td>\n",
       "      <td>0</td>\n",
       "      <td>0</td>\n",
       "      <td>0</td>\n",
       "      <td>0</td>\n",
       "      <td>0</td>\n",
       "      <td>0</td>\n",
       "      <td>0</td>\n",
       "      <td>0</td>\n",
       "    </tr>\n",
       "    <tr>\n",
       "      <th>5</th>\n",
       "      <td>700</td>\n",
       "      <td>0</td>\n",
       "      <td>0</td>\n",
       "      <td>0</td>\n",
       "      <td>0</td>\n",
       "      <td>0</td>\n",
       "      <td>0</td>\n",
       "      <td>0</td>\n",
       "      <td>0</td>\n",
       "      <td>0</td>\n",
       "      <td>...</td>\n",
       "      <td>0</td>\n",
       "      <td>0</td>\n",
       "      <td>0</td>\n",
       "      <td>0</td>\n",
       "      <td>0</td>\n",
       "      <td>0</td>\n",
       "      <td>0</td>\n",
       "      <td>0</td>\n",
       "      <td>0</td>\n",
       "      <td>0</td>\n",
       "    </tr>\n",
       "  </tbody>\n",
       "</table>\n",
       "<p>5 rows × 64 columns</p>\n",
       "</div>"
      ],
      "text/plain": [
       "        1     2     3     4    5    6    7    8    9   10  ...   55   56  57  \\\n",
       "idx                                                        ...                 \n",
       "1       0  5000     0     0  700  700    0    0    0    0  ...  100  100   0   \n",
       "2    5000     0   700   700    0    0  300  300  500  500  ...  100  100   0   \n",
       "3       0   700     0  2000    0    0    0    0  300  300  ...    0    0   0   \n",
       "4       0   700  2000     0    0    0  900  400  300  300  ...    0    0   0   \n",
       "5     700     0     0     0    0    0    0    0    0    0  ...    0    0   0   \n",
       "\n",
       "      58   59   60   61  62  63  64  \n",
       "idx                                  \n",
       "1      0  100  100  100   0   0   0  \n",
       "2    100    0    0    0   0   0   0  \n",
       "3      0    0    0    0   0   0   0  \n",
       "4      0    0    0    0   0   0   0  \n",
       "5      0    0    0    0   0   0   0  \n",
       "\n",
       "[5 rows x 64 columns]"
      ]
     },
     "execution_count": 348,
     "metadata": {},
     "output_type": "execute_result"
    }
   ],
   "source": [
    "print(\"Matrix shape:\", df.shape)\n",
    "print(\"Unique relationship values:\", np.unique(df.values))\n",
    "df.head()"
   ]
  },
  {
   "cell_type": "code",
   "execution_count": 349,
   "id": "6f36b37c",
   "metadata": {},
   "outputs": [
    {
     "data": {
      "image/png": "[encoded data removed]",
      "text/plain": [
       "<Figure size 1000x800 with 2 Axes>"
      ]
     },
     "metadata": {},
     "output_type": "display_data"
    }
   ],
   "source": [
    "import matplotlib.pyplot as plt\n",
    "\n",
    "plt.figure(figsize=(10, 8))\n",
    "plt.imshow(df.values, cmap=\"coolwarm\", interpolation=\"nearest\")\n",
    "plt.title(\"Guest Relationship Matrix\")\n",
    "plt.colorbar(label=\"Relationship Score\")\n",
    "plt.xlabel(\"Guest ID\")\n",
    "plt.ylabel(\"Guest ID\")\n",
    "plt.show()"
   ]
  },
  {
   "cell_type": "markdown",
   "id": "190741c3",
   "metadata": {},
   "source": [
    "# INDIVIDUAL REPRESENTATION\n"
   ]
  },
  {
   "cell_type": "markdown",
   "id": "fa249e57",
   "metadata": {},
   "source": [
    "## Example of a valid individual(random assignment)"
   ]
  },
  {
   "cell_type": "code",
   "execution_count": 350,
   "id": "a8c5ffe3",
   "metadata": {},
   "outputs": [],
   "source": [
    "# Each solution (individual) is represented as a list of 8 tables.\n",
    "# Each table is a list of guest IDs (from 1 to 64), and each guest\n",
    "# must appear exactly once in the entire individual."
   ]
  },
  {
   "cell_type": "code",
   "execution_count": 351,
   "id": "93c82611",
   "metadata": {},
   "outputs": [],
   "source": [
    "import random\n",
    "\n",
    "def generate_random_individual(num_guests=64, num_tables=8):\n",
    "    guests = list(range(1, num_guests + 1))\n",
    "    random.shuffle(guests)\n",
    "    \n",
    "    table_size = num_guests // num_tables\n",
    "    return [guests[i*table_size:(i+1)*table_size] for i in range(num_tables)]"
   ]
  },
  {
   "cell_type": "markdown",
   "id": "0a9fb041",
   "metadata": {},
   "source": [
    "## Generate a sample individual"
   ]
  },
  {
   "cell_type": "code",
   "execution_count": 352,
   "id": "56574532",
   "metadata": {},
   "outputs": [
    {
     "name": "stdout",
     "output_type": "stream",
     "text": [
      "Table 1: [22, 1, 3, 57, 63, 50, 64, 34]\n",
      "Table 2: [20, 13, 6, 45, 9, 31, 43, 40]\n",
      "Table 3: [53, 30, 18, 62, 46, 42, 36, 4]\n",
      "Table 4: [47, 48, 14, 49, 44, 5, 17, 59]\n",
      "Table 5: [29, 51, 26, 24, 56, 16, 38, 41]\n",
      "Table 6: [27, 39, 60, 35, 28, 54, 37, 12]\n",
      "Table 7: [23, 25, 33, 10, 19, 7, 55, 15]\n",
      "Table 8: [58, 11, 2, 32, 61, 21, 52, 8]\n"
     ]
    }
   ],
   "source": [
    "individual = generate_random_individual()\n",
    "for i, table in enumerate(individual, start=1):\n",
    "    print(f\"Table {i}: {table}\")"
   ]
  },
  {
   "cell_type": "markdown",
   "id": "d2244b4a",
   "metadata": {},
   "source": [
    "# FITNESS FUNCTION\n"
   ]
  },
  {
   "cell_type": "code",
   "execution_count": 353,
   "id": "db4251c3",
   "metadata": {},
   "outputs": [],
   "source": [
    "from itertools import combinations"
   ]
  },
  {
   "cell_type": "code",
   "execution_count": 354,
   "id": "be6a3f1b",
   "metadata": {},
   "outputs": [],
   "source": [
    "# Calculates how good a seating plan is by summing the relationship scores between every pair of guests sitting at the same table.\n",
    "\n",
    "def compute_fitness(individual, relationship_matrix):\n",
    "    total_score = 0\n",
    "\n",
    "    for table in individual:\n",
    "        pairs = combinations(table, 2)  # all unique guest pairs at the table\n",
    "        for guest1, guest2 in pairs:\n",
    "            score = relationship_matrix.loc[guest1, str(guest2)]\n",
    "            total_score += score\n",
    "\n",
    "    return total_score"
   ]
  },
  {
   "cell_type": "code",
   "execution_count": 355,
   "id": "e02dc3e2",
   "metadata": {},
   "outputs": [
    {
     "name": "stdout",
     "output_type": "stream",
     "text": [
      "Total fitness score: 10800\n"
     ]
    }
   ],
   "source": [
    "individual = generate_random_individual()\n",
    "\n",
    "score = compute_fitness(individual, df)\n",
    "print(\"Total fitness score:\", score)"
   ]
  },
  {
   "cell_type": "markdown",
   "id": "24902abc",
   "metadata": {},
   "source": [
    "# MUTATION 1 – SWAP TWO GUESTS FROM DIFERENT TABLES"
   ]
  },
  {
   "cell_type": "code",
   "execution_count": 356,
   "id": "dc4d1edc",
   "metadata": {},
   "outputs": [],
   "source": [
    "import copy\n",
    "\n",
    "# Swaps one guest from each of two randomly chosen tables\n",
    "\n",
    "def mutation_swap_guests(individual):\n",
    "    mutated = copy.deepcopy(individual)\n",
    "\n",
    "    table1_idx, table2_idx = random.sample(range(8), 2)\n",
    "    table1 = mutated[table1_idx]\n",
    "    table2 = mutated[table2_idx]\n",
    "\n",
    "    guest1_idx = random.randint(0, 7)\n",
    "    guest2_idx = random.randint(0, 7)\n",
    "\n",
    "    table1[guest1_idx], table2[guest2_idx] = table2[guest2_idx], table1[guest1_idx]\n",
    "\n",
    "    return mutated"
   ]
  },
  {
   "cell_type": "code",
   "execution_count": 357,
   "id": "2becfa20",
   "metadata": {},
   "outputs": [
    {
     "name": "stdout",
     "output_type": "stream",
     "text": [
      "Original (table 1): [18, 33, 13, 36, 58, 27, 45, 14]\n",
      "Mutated  (table 1): [18, 33, 13, 36, 5, 27, 45, 14]\n"
     ]
    }
   ],
   "source": [
    "original = generate_random_individual()\n",
    "mutated = mutation_swap_guests(original)\n",
    "\n",
    "print(\"Original (table 1):\", original[0])\n",
    "print(\"Mutated  (table 1):\", mutated[0])"
   ]
  },
  {
   "cell_type": "markdown",
   "id": "27d0195c",
   "metadata": {},
   "source": [
    "# MUTATION 2 – MOVE GUEST TO A DIFFERENT TABLE"
   ]
  },
  {
   "cell_type": "code",
   "execution_count": 358,
   "id": "361c5d8e",
   "metadata": {},
   "outputs": [],
   "source": [
    "# Moves one guest from one table to another by swapping them\n",
    "\n",
    "def mutation_move_guest(individual):\n",
    "    mutated = copy.deepcopy(individual)\n",
    "\n",
    "    from_table_idx, to_table_idx = random.sample(range(8), 2)\n",
    "    from_table = mutated[from_table_idx]\n",
    "    to_table = mutated[to_table_idx]\n",
    "\n",
    "    guest_from_idx = random.randint(0, 7)\n",
    "    guest_to_idx = random.randint(0, 7)\n",
    "\n",
    "    from_guest = from_table[guest_from_idx]\n",
    "    to_guest = to_table[guest_to_idx]\n",
    "\n",
    "    from_table[guest_from_idx] = to_guest\n",
    "    to_table[guest_to_idx] = from_guest\n",
    "\n",
    "    return mutated\n",
    "\n"
   ]
  },
  {
   "cell_type": "code",
   "execution_count": 359,
   "id": "52d9f382",
   "metadata": {},
   "outputs": [
    {
     "name": "stdout",
     "output_type": "stream",
     "text": [
      "Original (table 2): [18, 2, 25, 4, 43, 31, 46, 56]\n",
      "Mutated  (table 2): [18, 2, 25, 4, 43, 31, 46, 56]\n"
     ]
    }
   ],
   "source": [
    "original = generate_random_individual()\n",
    "mutated = mutation_move_guest(original)\n",
    "\n",
    "print(\"Original (table 2):\", original[1])\n",
    "print(\"Mutated  (table 2):\", mutated[1])\n"
   ]
  },
  {
   "cell_type": "markdown",
   "id": "908789f8",
   "metadata": {},
   "source": [
    "# MUTATION 3 – SHUFFLE GUESTS INSIDE A TABLE"
   ]
  },
  {
   "cell_type": "code",
   "execution_count": 360,
   "id": "436f4df5",
   "metadata": {},
   "outputs": [],
   "source": [
    "# Shuffle the order of guests within a randomly selected table.\n",
    "# It doesn’t affect fitness directly but adds genetic diversity.\n",
    "\n",
    "def mutation_shuffle_table(individual):\n",
    "    mutated = copy.deepcopy(individual)\n",
    "    table_idx = random.randint(0, 7)\n",
    "    random.shuffle(mutated[table_idx])\n",
    "    return mutated"
   ]
  },
  {
   "cell_type": "code",
   "execution_count": 361,
   "id": "40f84f81",
   "metadata": {},
   "outputs": [
    {
     "name": "stdout",
     "output_type": "stream",
     "text": [
      "Original (table 6): [1, 18, 25, 13, 4, 26, 21, 22]\n",
      "Mutated  (table 6): [1, 18, 25, 13, 4, 26, 21, 22]\n"
     ]
    }
   ],
   "source": [
    "original = generate_random_individual()\n",
    "mutated = mutation_shuffle_table(original)\n",
    "\n",
    "print(\"Original (table 6):\", original[5])\n",
    "print(\"Mutated  (table 6):\", mutated[5])"
   ]
  },
  {
   "cell_type": "code",
   "execution_count": 362,
   "id": "d2072b20",
   "metadata": {},
   "outputs": [
    {
     "name": "stdout",
     "output_type": "stream",
     "text": [
      "Original distribution:\n",
      "Guests present: [1, 2, 3, 4, 5, 6, 7, 8, 9, 10, 11, 12, 13, 14, 15, 16, 17, 18, 19, 20, 21, 22, 23, 24, 25, 26, 27, 28, 29, 30, 31, 32, 33, 34, 35, 36, 37, 38, 39, 40, 41, 42, 43, 44, 45, 46, 47, 48, 49, 50, 51, 52, 53, 54, 55, 56, 57, 58, 59, 60, 61, 62, 63, 64]\n",
      "Total guests: 64 | Unique: 64\n",
      "\n",
      "Mutated distribution:\n",
      "Guests present: [1, 2, 3, 4, 5, 6, 7, 8, 9, 10, 11, 12, 13, 14, 15, 16, 17, 18, 19, 20, 21, 22, 23, 24, 25, 26, 27, 28, 29, 30, 31, 32, 33, 34, 35, 36, 37, 38, 39, 40, 41, 42, 43, 44, 45, 46, 47, 48, 49, 50, 51, 52, 53, 54, 55, 56, 57, 58, 59, 60, 61, 62, 63, 64]\n",
      "Total guests: 64 | Unique: 64\n"
     ]
    }
   ],
   "source": [
    "def print_guest_distribution(ind):\n",
    "    all_guests = [guest for table in ind for guest in table]\n",
    "    print(\"Guests present:\", sorted(all_guests))\n",
    "    print(\"Total guests:\", len(all_guests), \"| Unique:\", len(set(all_guests)))\n",
    "\n",
    "print(\"Original distribution:\")\n",
    "print_guest_distribution(original)\n",
    "\n",
    "print(\"\\nMutated distribution:\")\n",
    "print_guest_distribution(mutated)\n"
   ]
  },
  {
   "cell_type": "markdown",
   "id": "c9d52a41",
   "metadata": {},
   "source": [
    "# CROSSOVER 1 – TABLE-BASED CROSSOVER"
   ]
  },
  {
   "cell_type": "code",
   "execution_count": 363,
   "id": "5ad49ed1",
   "metadata": {},
   "outputs": [],
   "source": [
    "# Builds a new individual by combining 4 tables from each parent\n",
    "\n",
    "def crossover_tables_half_half(parent1, parent2):\n",
    "    p1_guests = [guest for table in parent1 for guest in table]\n",
    "    p2_guests = [guest for table in parent2 for guest in table]\n",
    "\n",
    "    child_guests = set()\n",
    "    p1_tables = random.sample(range(8), 4)\n",
    "    p2_tables = [i for i in range(8) if i not in p1_tables]\n",
    "\n",
    "    child_tables = []\n",
    "\n",
    "    for i in p1_tables:\n",
    "        child_tables.append(parent1[i])\n",
    "        child_guests.update(parent1[i])\n",
    "\n",
    "    for i in p2_tables:\n",
    "        table = [g for g in parent2[i] if g not in child_guests]\n",
    "        child_tables.append(table)\n",
    "        child_guests.update(table)\n",
    "\n",
    "    all_guests = set(range(1, 65))\n",
    "    missing = list(all_guests - child_guests)\n",
    "\n",
    "    for guest in missing:\n",
    "        for table in child_tables:\n",
    "            if len(table) < 8:\n",
    "                table.append(guest)\n",
    "                break\n",
    "\n",
    "    return child_tables"
   ]
  },
  {
   "cell_type": "code",
   "execution_count": 364,
   "id": "1ae949ca",
   "metadata": {},
   "outputs": [
    {
     "name": "stdout",
     "output_type": "stream",
     "text": [
      "Child table sizes: [8, 8, 8, 8, 8, 8, 8, 8]\n",
      "Guests present: [1, 2, 3, 4, 5, 6, 7, 8, 9, 10, 11, 12, 13, 14, 15, 16, 17, 18, 19, 20, 21, 22, 23, 24, 25, 26, 27, 28, 29, 30, 31, 32, 33, 34, 35, 36, 37, 38, 39, 40, 41, 42, 43, 44, 45, 46, 47, 48, 49, 50, 51, 52, 53, 54, 55, 56, 57, 58, 59, 60, 61, 62, 63, 64]\n",
      "Total guests: 64 | Unique: 64\n"
     ]
    }
   ],
   "source": [
    "p1 = generate_random_individual()\n",
    "p2 = generate_random_individual()\n",
    "child = crossover_tables_half_half(p1, p2)\n",
    "\n",
    "print(\"Child table sizes:\", [len(table) for table in child])\n",
    "print_guest_distribution(child)\n"
   ]
  },
  {
   "cell_type": "code",
   "execution_count": 365,
   "id": "8f0a5787",
   "metadata": {},
   "outputs": [
    {
     "name": "stdout",
     "output_type": "stream",
     "text": [
      "Child table sizes: [8, 8, 8, 8, 8, 8, 8, 8]\n",
      "Guests present: [1, 2, 3, 4, 5, 6, 7, 8, 9, 10, 11, 12, 13, 14, 15, 16, 17, 18, 19, 20, 21, 22, 23, 24, 25, 26, 27, 28, 29, 30, 31, 32, 33, 34, 35, 36, 37, 38, 39, 40, 41, 42, 43, 44, 45, 46, 47, 48, 49, 50, 51, 52, 53, 54, 55, 56, 57, 58, 59, 60, 61, 62, 63, 64]\n",
      "Total guests: 64 | Unique: 64\n"
     ]
    }
   ],
   "source": [
    "print(\"Child table sizes:\", [len(table) for table in child])\n",
    "print_guest_distribution(child)"
   ]
  },
  {
   "cell_type": "markdown",
   "id": "92bb1de2",
   "metadata": {},
   "source": [
    "# CROSSOVER 2 – GUEST-WISE CROSSOVER"
   ]
  },
  {
   "cell_type": "code",
   "execution_count": 366,
   "id": "f9478996",
   "metadata": {},
   "outputs": [],
   "source": [
    "# For each guest, randomly picks which parent to follow, then reconstructs a valid seating plan with 8 tables\n",
    "\n",
    "def crossover_guest_level(parent1, parent2):\n",
    "    guest_table_map = {}\n",
    "\n",
    "    p1_map = {guest: i for i, table in enumerate(parent1) for guest in table}\n",
    "    p2_map = {guest: i for i, table in enumerate(parent2) for guest in table}\n",
    "\n",
    "    for guest in range(1, 65):\n",
    "        if random.random() < 0.5:\n",
    "            guest_table_map[guest] = p1_map[guest]\n",
    "        else:\n",
    "            guest_table_map[guest] = p2_map[guest]\n",
    "\n",
    "    tables_raw = [[] for _ in range(8)]\n",
    "    for guest, table_idx in guest_table_map.items():\n",
    "        tables_raw[table_idx].append(guest)\n",
    "\n",
    "    flat = [g for t in tables_raw for g in t]\n",
    "    random.shuffle(flat)\n",
    "    child = [flat[i*8:(i+1)*8] for i in range(8)]\n",
    "\n",
    "    return child"
   ]
  },
  {
   "cell_type": "code",
   "execution_count": 367,
   "id": "4ab53dad",
   "metadata": {},
   "outputs": [
    {
     "name": "stdout",
     "output_type": "stream",
     "text": [
      "Child table sizes: [8, 8, 8, 8, 8, 8, 8, 8]\n",
      "Guests present: [1, 2, 3, 4, 5, 6, 7, 8, 9, 10, 11, 12, 13, 14, 15, 16, 17, 18, 19, 20, 21, 22, 23, 24, 25, 26, 27, 28, 29, 30, 31, 32, 33, 34, 35, 36, 37, 38, 39, 40, 41, 42, 43, 44, 45, 46, 47, 48, 49, 50, 51, 52, 53, 54, 55, 56, 57, 58, 59, 60, 61, 62, 63, 64]\n",
      "Total guests: 64 | Unique: 64\n"
     ]
    }
   ],
   "source": [
    "p1 = generate_random_individual()\n",
    "p2 = generate_random_individual()\n",
    "child = crossover_guest_level(p1, p2)\n",
    "\n",
    "print(\"Child table sizes:\", [len(table) for table in child])\n",
    "print_guest_distribution(child)\n"
   ]
  },
  {
   "cell_type": "markdown",
   "id": "d6ef9acb",
   "metadata": {},
   "source": [
    "# SELECTION 1 – TOURNAMENT SELECTION"
   ]
  },
  {
   "cell_type": "code",
   "execution_count": 368,
   "id": "f85278dd",
   "metadata": {},
   "outputs": [],
   "source": [
    "# Chooses k individuals randomly and returns the best one\n",
    "\n",
    "def tournament_selection(population, fitnesses, k=3):\n",
    "    selected_indices = random.sample(range(len(population)), k)\n",
    "    best_index = selected_indices[0]\n",
    "\n",
    "    for idx in selected_indices:\n",
    "        if fitnesses[idx] > fitnesses[best_index]:\n",
    "            best_index = idx\n",
    "\n",
    "    return copy.deepcopy(population[best_index])\n"
   ]
  },
  {
   "cell_type": "markdown",
   "id": "018e09f3",
   "metadata": {},
   "source": [
    "# SELECTION 2 – ROULETTE WHEEL SELECTION"
   ]
  },
  {
   "cell_type": "code",
   "execution_count": 369,
   "id": "b56b5d8c",
   "metadata": {},
   "outputs": [],
   "source": [
    "# Chooses one individual based on fitness-proportional probability\n",
    "\n",
    "def roulette_selection(population, fitnesses):\n",
    "    total_fitness = sum(fitnesses)\n",
    "\n",
    "    if total_fitness == 0:\n",
    "        probs = [1 / len(population)] * len(population)\n",
    "    else:\n",
    "        probs = [f / total_fitness for f in fitnesses]\n",
    "\n",
    "    selected_index = random.choices(range(len(population)), weights=probs, k=1)[0]\n",
    "    return copy.deepcopy(population[selected_index])"
   ]
  },
  {
   "cell_type": "code",
   "execution_count": 370,
   "id": "dff3ff79",
   "metadata": {},
   "outputs": [
    {
     "name": "stdout",
     "output_type": "stream",
     "text": [
      "Tournament selection result: 15600\n",
      "Roulette selection result: 15600\n"
     ]
    }
   ],
   "source": [
    "# Quick test to compare both selection methods\n",
    "\n",
    "pop = [generate_random_individual() for _ in range(10)]\n",
    "fit = [compute_fitness(ind, df) for ind in pop]\n",
    "\n",
    "t_selected = tournament_selection(pop, fit)\n",
    "print(\"Tournament selection result:\", compute_fitness(t_selected, df))\n",
    "\n",
    "r_selected = roulette_selection(pop, fit)\n",
    "print(\"Roulette selection result:\", compute_fitness(r_selected, df))"
   ]
  },
  {
   "cell_type": "markdown",
   "id": "1a9ab0ec",
   "metadata": {},
   "source": [
    "# GENETIC ALGORITHM – MAIN LOOP"
   ]
  },
  {
   "cell_type": "code",
   "execution_count": 371,
   "id": "e46ede9f",
   "metadata": {},
   "outputs": [],
   "source": [
    "def run_genetic_algorithm(\n",
    "    population_size=50,\n",
    "    generations=100,\n",
    "    crossover_prob=0.8,\n",
    "    mutation_prob=0.3,\n",
    "    elitism=True\n",
    "):\n",
    "    population = [generate_random_individual() for _ in range(population_size)]\n",
    "    fitnesses = [compute_fitness(ind, df) for ind in population]\n",
    "\n",
    "    best_individual = copy.deepcopy(population[np.argmax(fitnesses)])\n",
    "    best_fitness = max(fitnesses)\n",
    "    history = [best_fitness]\n",
    "\n",
    "    for gen in range(generations):\n",
    "        new_population = []\n",
    "\n",
    "        if elitism:\n",
    "            new_population.append(copy.deepcopy(best_individual))\n",
    "\n",
    "        while len(new_population) < population_size:\n",
    "            parent1 = tournament_selection(population, fitnesses)\n",
    "            parent2 = roulette_selection(population, fitnesses)\n",
    "\n",
    "            if random.random() < crossover_prob:\n",
    "                if random.random() < 0.5:\n",
    "                    child = crossover_tables_half_half(parent1, parent2)\n",
    "                else:\n",
    "                    child = crossover_guest_level(parent1, parent2)\n",
    "            else:\n",
    "                child = copy.deepcopy(parent1)\n",
    "\n",
    "            if random.random() < mutation_prob:\n",
    "                mutation_type = random.choice([\n",
    "                    mutation_swap_guests,\n",
    "                    mutation_move_guest,\n",
    "                    mutation_shuffle_table\n",
    "                ])\n",
    "                child = mutation_type(child)\n",
    "\n",
    "            new_population.append(child)\n",
    "\n",
    "        population = new_population\n",
    "        fitnesses = [compute_fitness(ind, df) for ind in population]\n",
    "\n",
    "        current_best_index = np.argmax(fitnesses)\n",
    "        current_best_fitness = fitnesses[current_best_index]\n",
    "\n",
    "        if current_best_fitness > best_fitness:\n",
    "            best_fitness = current_best_fitness\n",
    "            best_individual = copy.deepcopy(population[current_best_index])\n",
    "\n",
    "        history.append(best_fitness)\n",
    "\n",
    "        if gen % 10 == 0 or gen == generations - 1:\n",
    "            print(f\"Generation {gen}: Best fitness = {best_fitness}\")\n",
    "\n",
    "    return best_individual, history"
   ]
  },
  {
   "cell_type": "code",
   "execution_count": 372,
   "id": "3d9c8968",
   "metadata": {},
   "outputs": [
    {
     "name": "stdout",
     "output_type": "stream",
     "text": [
      "Generation 0: Best fitness = 27600\n",
      "Generation 10: Best fitness = 45200\n",
      "Generation 20: Best fitness = 53900\n",
      "Generation 30: Best fitness = 54000\n",
      "Generation 40: Best fitness = 60400\n",
      "Generation 50: Best fitness = 61200\n",
      "Generation 60: Best fitness = 61200\n",
      "Generation 70: Best fitness = 61200\n",
      "Generation 80: Best fitness = 63900\n",
      "Generation 90: Best fitness = 64800\n",
      "Generation 99: Best fitness = 65800\n",
      "Final best fitness: 65800\n"
     ]
    }
   ],
   "source": [
    "# Run the algorithm and store results\n",
    "best_solution, history = run_genetic_algorithm()\n",
    "\n",
    "final_fitness = history[-1]\n",
    "print(\"Final best fitness:\", final_fitness)"
   ]
  },
  {
   "cell_type": "code",
   "execution_count": 373,
   "id": "65de2c40",
   "metadata": {},
   "outputs": [
    {
     "data": {
      "image/png": "[encoded data removed]",
      "text/plain": [
       "<Figure size 640x480 with 1 Axes>"
      ]
     },
     "metadata": {},
     "output_type": "display_data"
    }
   ],
   "source": [
    "plt.plot(fitness_history)\n",
    "plt.title(\"Evolution of Best Fitness Over Generations\")\n",
    "plt.xlabel(\"Generation\")\n",
    "plt.ylabel(\"Best Fitness\")\n",
    "plt.grid(True)\n",
    "plt.show()"
   ]
  },
  {
   "cell_type": "code",
   "execution_count": 374,
   "id": "498ac14d",
   "metadata": {},
   "outputs": [
    {
     "name": "stdout",
     "output_type": "stream",
     "text": [
      "Best seating plan saved to '../data/best_seating_plan.csv'\n"
     ]
    }
   ],
   "source": [
    "import csv\n",
    "\n",
    "def save_seating_plan(individual, filename=\"best_seating_plan.csv\"):\n",
    "    with open(f\"../data/{filename}\", mode=\"w\", newline=\"\") as file:\n",
    "        writer = csv.writer(file)\n",
    "        writer.writerow([\"Table\", \"Guest_IDs\"])\n",
    "        for i, table in enumerate(individual, start=1):\n",
    "            writer.writerow([f\"Table {i}\"] + table)\n",
    "\n",
    "save_seating_plan(best_solution)\n",
    "print(\"Best seating plan saved to '../data/best_seating_plan.csv'\")"
   ]
  }
 ],
 "metadata": {
  "kernelspec": {
   "display_name": "Python 3",
   "language": "python",
   "name": "python3"
  },
  "language_info": {
   "codemirror_mode": {
    "name": "ipython",
    "version": 3
   },
   "file_extension": ".py",
   "mimetype": "text/x-python",
   "name": "python",
   "nbconvert_exporter": "python",
   "pygments_lexer": "ipython3",
   "version": "3.11.9"
  }
 },
 "nbformat": 4,
 "nbformat_minor": 5
}
